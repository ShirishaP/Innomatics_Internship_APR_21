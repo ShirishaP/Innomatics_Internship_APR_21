{
  "nbformat": 4,
  "nbformat_minor": 0,
  "metadata": {
    "colab": {
      "name": "Task - 6 (Numpy).ipynb",
      "provenance": [],
      "collapsed_sections": []
    },
    "kernelspec": {
      "name": "python3",
      "display_name": "Python 3"
    },
    "language_info": {
      "name": "python"
    }
  },
  "cells": [
    {
      "cell_type": "markdown",
      "metadata": {
        "id": "N7ZIOv6W7jcA"
      },
      "source": [
        "**Question 1**\n",
        "\n",
        "Arrays"
      ]
    },
    {
      "cell_type": "code",
      "metadata": {
        "id": "ic3nZoiH7UKK"
      },
      "source": [
        "import numpy\n",
        "\n",
        "def arrays(arr):\n",
        "    # complete this function\n",
        "    # use numpy.array\n",
        "    array1=numpy.array(arr[::-1])\n",
        "    return array1.astype(numpy.float64)\n",
        "\n",
        "arr = raw_input().strip().split(' ')\n",
        "result = arrays(arr)\n",
        "print(result)"
      ],
      "execution_count": null,
      "outputs": []
    },
    {
      "cell_type": "markdown",
      "metadata": {
        "id": "hr7VkKoS74Au"
      },
      "source": [
        "**Question 2**\n",
        "\n",
        "Shape and Reshape"
      ]
    },
    {
      "cell_type": "code",
      "metadata": {
        "id": "L8wubwHv799L"
      },
      "source": [
        "import numpy\n",
        "array1 =raw_input().strip().split(\" \")\n",
        "array2 =numpy.array(array1)\n",
        "array2 = array2.astype(numpy.int32)\n",
        "array3= numpy.reshape(array2,(3,3))\n",
        "print(array3)\n"
      ],
      "execution_count": null,
      "outputs": []
    },
    {
      "cell_type": "markdown",
      "metadata": {
        "id": "B3FS30xU7-xT"
      },
      "source": [
        "**Question 3**\n",
        "\n",
        "Transpose and Flatten"
      ]
    },
    {
      "cell_type": "code",
      "metadata": {
        "id": "2-i33tf88EDs"
      },
      "source": [
        "\n",
        "import numpy\n",
        "\n",
        "input1 = raw_input().strip().split(\" \")\n",
        "#print(input1)\n",
        "\n",
        "N = int(input1[0])\n",
        "M= int(input1[1])\n",
        "\n",
        "result = numpy.array([raw_input().strip().split() for _ in range(N)])\n",
        "arrayF = result.astype(numpy.int32)\n",
        "print(arrayF.transpose())\n",
        "print(arrayF.flatten())\n"
      ],
      "execution_count": null,
      "outputs": []
    },
    {
      "cell_type": "markdown",
      "metadata": {
        "id": "7KZQnSKb8Eeh"
      },
      "source": [
        "**Question 4**\n",
        "\n",
        "Concatenate"
      ]
    },
    {
      "cell_type": "code",
      "metadata": {
        "id": "s6RrCoYz8Kzr"
      },
      "source": [
        "import numpy\n",
        "\n",
        "n, m, p = map(int, raw_input().split())\n",
        "\n",
        "\n",
        "\n",
        "array1 = numpy.array([ map(int, raw_input().split()) for i in range(n) ])\n",
        "array2 = numpy.array([ map(int, raw_input().split()) for i in range(m) ])\n",
        "\n",
        "    \n",
        "print(numpy.concatenate((array1,array2),axis=0))\n"
      ],
      "execution_count": null,
      "outputs": []
    },
    {
      "cell_type": "markdown",
      "metadata": {
        "id": "BMs7jZce8LQz"
      },
      "source": [
        "**Question 5**\n",
        "\n",
        "Zeros and Ones"
      ]
    },
    {
      "cell_type": "code",
      "metadata": {
        "id": "qO1pdDb68O-5"
      },
      "source": [
        "import numpy\n",
        "n = map(int, raw_input().split())\n",
        "\n",
        "array1=numpy.zeros((n), dtype = numpy.int)\n",
        "array2=numpy.ones((n), dtype = numpy.int)\n",
        "print(array1)\n",
        "print(array2)\n"
      ],
      "execution_count": null,
      "outputs": []
    },
    {
      "cell_type": "markdown",
      "metadata": {
        "id": "_jegGbvR8Pzo"
      },
      "source": [
        "**Question 6**\n",
        "\n",
        "Eye and Identity"
      ]
    },
    {
      "cell_type": "code",
      "metadata": {
        "id": "VFZO6y8V8Wn3"
      },
      "source": [
        "import numpy\n",
        "n,m= map(int,raw_input().split())\n",
        "numpy.set_printoptions(sign=' ')\n",
        "print(numpy.eye(n, m))\n"
      ],
      "execution_count": null,
      "outputs": []
    },
    {
      "cell_type": "markdown",
      "metadata": {
        "id": "IPyUejXi8XNJ"
      },
      "source": [
        "**Question 7**\n",
        "\n",
        "Array Mathematics"
      ]
    },
    {
      "cell_type": "code",
      "metadata": {
        "id": "rZvzDMoc8bQw"
      },
      "source": [
        "import numpy\n",
        "n,m = map(int, raw_input().split())\n",
        "list1 = list(map(int,raw_input().split()) for i in range(n))\n",
        "list2=list(map(int,raw_input().split()) for i in range(n))\n",
        "\n",
        "array1 = numpy.array(list1)\n",
        "array2=numpy.array(list2)\n",
        "\n",
        "\n",
        "print(numpy.add(array1,array2))\n",
        "print(numpy.subtract(array1,array2))\n",
        "print(numpy.multiply(array1,array2))\n",
        "print(numpy.divide(array1,array2))\n",
        "print(numpy.mod(array1,array2))\n",
        "print(numpy.power(array1,array2))"
      ],
      "execution_count": null,
      "outputs": []
    },
    {
      "cell_type": "markdown",
      "metadata": {
        "id": "9KEvCNfz8cBu"
      },
      "source": [
        "**Question 8**\n",
        "\n",
        "Floor, Ceil and Rint"
      ]
    },
    {
      "cell_type": "code",
      "metadata": {
        "id": "Te1f155X8jGc"
      },
      "source": [
        "import numpy\n",
        "list1 = list(map(float,raw_input().split()))\n",
        "\n",
        "array1 = numpy.array(list1)\n",
        "\n",
        "numpy.set_printoptions(sign=' ')\n",
        "print numpy.floor(array1)\n",
        "print numpy.ceil(array1)\n",
        "print numpy.rint(array1)\n"
      ],
      "execution_count": null,
      "outputs": []
    },
    {
      "cell_type": "markdown",
      "metadata": {
        "id": "hybFykRc8kC7"
      },
      "source": [
        "**Question 9**\n",
        "\n",
        "Sum and Prod"
      ]
    },
    {
      "cell_type": "code",
      "metadata": {
        "id": "AWrttGdG8qxK"
      },
      "source": [
        "import numpy\n",
        "n,m = map(int, raw_input().split())\n",
        "\n",
        "list1 = list(map(int,raw_input().split()) for i in range(n))\n",
        "array1 = numpy.array(list1)\n",
        "\n",
        "sum1 = numpy.sum(array1, axis = 0) \n",
        "print numpy.prod(sum1) \n"
      ],
      "execution_count": null,
      "outputs": []
    },
    {
      "cell_type": "markdown",
      "metadata": {
        "id": "qT9n_P7m8rTK"
      },
      "source": [
        "**Question 10**\n",
        "\n",
        "Min and Max"
      ]
    },
    {
      "cell_type": "code",
      "metadata": {
        "id": "aMCABc8j8vQw"
      },
      "source": [
        "import numpy\n",
        "n,m = map(int,raw_input().split())\n",
        "list1 = list(map(int,raw_input().split()) for i in range(n))\n",
        "array1 = numpy.array(list1)\n",
        "\n",
        "minarray = numpy.min(array1, axis = 1)\n",
        "print numpy.max(minarray)  \n"
      ],
      "execution_count": null,
      "outputs": []
    },
    {
      "cell_type": "markdown",
      "metadata": {
        "id": "qxZIxp4N8wAA"
      },
      "source": [
        "**Question 11**\n",
        "\n",
        "Dot and Cross"
      ]
    },
    {
      "cell_type": "code",
      "metadata": {
        "id": "JwBSSm4783zf"
      },
      "source": [
        "import numpy\n",
        "n= int(raw_input())\n",
        "\n",
        "array1 = numpy.array([map(int,raw_input().split()) for i in range(n)])\n",
        "array2 = numpy.array([map(int,raw_input().split()) for i in range(n)])\n",
        "\n",
        "print numpy.dot(array1,array2)\n"
      ],
      "execution_count": null,
      "outputs": []
    },
    {
      "cell_type": "markdown",
      "metadata": {
        "id": "mBoaNz1L84d1"
      },
      "source": [
        "**Question 12**\n",
        "\n",
        "Inner and outer"
      ]
    },
    {
      "cell_type": "code",
      "metadata": {
        "id": "aRQIg28K8-Jg"
      },
      "source": [
        "import numpy\n",
        "array1 = numpy.array(map(int,raw_input().split()))\n",
        "array2 = numpy.array(map(int,raw_input().split()))\n",
        "\n",
        "print numpy.inner(array1,array2)\n",
        "print numpy.outer(array1,array2)\n"
      ],
      "execution_count": null,
      "outputs": []
    },
    {
      "cell_type": "markdown",
      "metadata": {
        "id": "5dkZ_zjY8-7C"
      },
      "source": [
        "**Question 13**\n",
        "\n",
        "Polynomials"
      ]
    },
    {
      "cell_type": "code",
      "metadata": {
        "id": "5ccxbAh89Dkb"
      },
      "source": [
        "import numpy\n",
        "\n",
        "list1 = list(map(float,raw_input().split()))\n",
        "x = int(raw_input())\n",
        "\n",
        "print numpy.polyval(list1, x)\n"
      ],
      "execution_count": null,
      "outputs": []
    },
    {
      "cell_type": "markdown",
      "metadata": {
        "id": "AMIyAyKh9ETK"
      },
      "source": [
        "**Question 14**\n",
        "\n",
        "Linear Algebra\n"
      ]
    },
    {
      "cell_type": "code",
      "metadata": {
        "id": "b8TAWRIB9IGt"
      },
      "source": [
        "import numpy\n",
        "n= int(raw_input())\n",
        "\n",
        "array1 = numpy.array([map(float,raw_input().split()) for i in range(n)])\n",
        "\n",
        "#print(array1)\n",
        "result = numpy.linalg.det(array1) \n",
        "print (round(result, 2))\n"
      ],
      "execution_count": null,
      "outputs": []
    },
    {
      "cell_type": "markdown",
      "metadata": {
        "id": "l_ktOOLl9I8p"
      },
      "source": [
        "**Question 15**\n",
        "\n",
        "Mean,Var and Std"
      ]
    },
    {
      "cell_type": "code",
      "metadata": {
        "id": "WMdZELHI9Nk8"
      },
      "source": [
        "import numpy\n",
        "n,m = map(int,raw_input().split())\n",
        "\n",
        "list1 = list(map(int,raw_input().split()) for i in range(n))\n",
        "\n",
        "array1 = numpy.array(list1)\n",
        "print numpy.mean(array1,axis=1)\n",
        "print numpy.var(array1,axis=0)\n",
        "print numpy.std(array1,axis=None)\n"
      ],
      "execution_count": null,
      "outputs": []
    }
  ]
}