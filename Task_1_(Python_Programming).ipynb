{
  "nbformat": 4,
  "nbformat_minor": 0,
  "metadata": {
    "colab": {
      "name": "Task - 1 (Python Programming).ipynb",
      "provenance": [],
      "collapsed_sections": []
    },
    "kernelspec": {
      "name": "python3",
      "display_name": "Python 3"
    },
    "language_info": {
      "name": "python"
    }
  },
  "cells": [
    {
      "cell_type": "code",
      "metadata": {
        "colab": {
          "base_uri": "https://localhost:8080/"
        },
        "id": "_dyqCBbAEywa",
        "outputId": "08c40c79-f5a0-4761-e849-b4b371b832de"
      },
      "source": [
        "#Question  1:\n",
        "\n",
        "print(\"Hello, World!\")"
      ],
      "execution_count": 1,
      "outputs": [
        {
          "output_type": "stream",
          "text": [
            "Hello, World!\n"
          ],
          "name": "stdout"
        }
      ]
    },
    {
      "cell_type": "markdown",
      "metadata": {
        "id": "zpOisgkTGF9Z"
      },
      "source": [
        "**Question 2**\n",
        "\n",
        "Add code to print three lines where:\n",
        "1. The first line contains the sum of the two numbers.\n",
        "2. The second line contains the difference of the two numbers (first - second).\n",
        "3. The third line contains the product of the two numbers."
      ]
    },
    {
      "cell_type": "code",
      "metadata": {
        "colab": {
          "base_uri": "https://localhost:8080/"
        },
        "id": "WPtShaLIGUQ-",
        "outputId": "6da9765b-aea7-450f-90af-46d50bad5486"
      },
      "source": [
        "a = int(input(\"Enter first number: \"))\n",
        "b = int(input(\"Enter second number: \"))\n",
        "print(\"The addition of a and b is \",a+b)\n",
        "print(\"The subraction of a and b is \",a-b)\n",
        "print(\"The multiplication of a and b is \", a*b)"
      ],
      "execution_count": 7,
      "outputs": [
        {
          "output_type": "stream",
          "text": [
            "Enter first number: 90\n",
            "Enter second number: 7\n",
            "The addition of a and b is  97\n",
            "The subraction of a and b is  83\n",
            "The multiplication of a and b is  630\n"
          ],
          "name": "stdout"
        }
      ]
    },
    {
      "cell_type": "markdown",
      "metadata": {
        "id": "eDs_j3rVHLWG"
      },
      "source": [
        "**Question 3**\n",
        "\n",
        "Add logic to print two lines. \n",
        "1. The first line should contain the result of integer division, a // b. \n",
        "2. The second line should contain the result of float division, a /b ."
      ]
    },
    {
      "cell_type": "code",
      "metadata": {
        "colab": {
          "base_uri": "https://localhost:8080/"
        },
        "id": "MwBiISV3G0DI",
        "outputId": "379826f2-f24d-434f-ee73-a38daab33c48"
      },
      "source": [
        "a = int(input(\"Enter first number: \"))\n",
        "b = int(input(\"Enter second number: \"))\n",
        "print(\"The result of the integer division is \",a//b)\n",
        "print(\"The result of the float division is  \",a/b)"
      ],
      "execution_count": 8,
      "outputs": [
        {
          "output_type": "stream",
          "text": [
            "Enter first number: 90\n",
            "Enter second number: 7\n",
            "The result of the integer division is  12\n",
            "The result of the float division is   12.857142857142858\n"
          ],
          "name": "stdout"
        }
      ]
    },
    {
      "cell_type": "markdown",
      "metadata": {
        "id": "cRVKJiByH-Bm"
      },
      "source": [
        "**Question 4**\n",
        "\n",
        "For all non-negative integers i<n , print i^2 ."
      ]
    },
    {
      "cell_type": "code",
      "metadata": {
        "colab": {
          "base_uri": "https://localhost:8080/"
        },
        "id": "Pc11WMkeHr2G",
        "outputId": "c937f3e6-410a-47d4-e3e5-ea94a6d51e60"
      },
      "source": [
        "n = int(input(\"Enter a number: \"))\n",
        "for i in range(n):\n",
        "  print(\"The square of {0} is {1}\".format(i,i*i))"
      ],
      "execution_count": 12,
      "outputs": [
        {
          "output_type": "stream",
          "text": [
            "Enter a number: 5\n",
            "The square of 0 is 0\n",
            "The square of 1 is 1\n",
            "The square of 2 is 4\n",
            "The square of 3 is 9\n",
            "The square of 4 is 16\n"
          ],
          "name": "stdout"
        }
      ]
    },
    {
      "cell_type": "markdown",
      "metadata": {
        "id": "qfKoQ02hJBm-"
      },
      "source": [
        "**Question 5**\n",
        "\n",
        "Given a year, determine whether it is a leap year. If it is a leap year, return the Boolean True, otherwise return False.\n"
      ]
    },
    {
      "cell_type": "code",
      "metadata": {
        "id": "FATXNq3DIjX5"
      },
      "source": [
        "def is_leap(year):\n",
        "    leap = False\n",
        "    \n",
        "    # Write your logic here\n",
        "    if year % 400 == 0 :\n",
        "        leap = True\n",
        "    if year % 4 == 0 and year % 100 != 0:\n",
        "        leap = True\n",
        "    return leap"
      ],
      "execution_count": 13,
      "outputs": []
    },
    {
      "cell_type": "code",
      "metadata": {
        "colab": {
          "base_uri": "https://localhost:8080/"
        },
        "id": "hBZG5hcIKiZN",
        "outputId": "626aa295-368f-4624-c7e0-eeeb1ef9bc1b"
      },
      "source": [
        "year = int(input(\"Enter an year : \"))\n",
        "if is_leap(year):\n",
        "  print(\"{} is a leap year\".format(year))\n",
        "else :\n",
        "  print(\"{} is not a leap year\".format(year))"
      ],
      "execution_count": 27,
      "outputs": [
        {
          "output_type": "stream",
          "text": [
            "Enter an year : 2020\n",
            "2020 is a leap year\n"
          ],
          "name": "stdout"
        }
      ]
    },
    {
      "cell_type": "markdown",
      "metadata": {
        "id": "I0KCNu85Lw6F"
      },
      "source": [
        "**Question 6**\n",
        "\n",
        "Without using any string methods, try to print the following:\n",
        "1234...n"
      ]
    },
    {
      "cell_type": "code",
      "metadata": {
        "colab": {
          "base_uri": "https://localhost:8080/"
        },
        "id": "J2gWRbdeKpak",
        "outputId": "6f03ad5e-99d5-40ed-ab45-c7c605f3071f"
      },
      "source": [
        "n = int(input(\"Enter a number: \"))\n",
        "for i in range(1,n+1):\n",
        "  print(i,end='')"
      ],
      "execution_count": 28,
      "outputs": [
        {
          "output_type": "stream",
          "text": [
            "Enter a number: 8\n",
            "12345678"
          ],
          "name": "stdout"
        }
      ]
    },
    {
      "cell_type": "markdown",
      "metadata": {
        "id": "JiXszntdNaXk"
      },
      "source": [
        "**Question 7**\n",
        "\n",
        "Given an integer, n , perform the following conditional actions:\n",
        "\n",
        "1. If n is odd, print Weird\n",
        "2. If n is even and in the inclusive range of 2 to 5 , print Not Weird\n",
        "3. If n is even and in the inclusive range of 6 to 20, print Weird\n",
        "4. If n is even and greater than 20, print Not Weird"
      ]
    },
    {
      "cell_type": "code",
      "metadata": {
        "colab": {
          "base_uri": "https://localhost:8080/"
        },
        "id": "Pim-jmAaNPfC",
        "outputId": "db0fb8e5-0457-4aee-c6c2-ec5a6e3c9389"
      },
      "source": [
        "n = int(input(\"Enter a number: \"))\n",
        "if n%2 != 0:\n",
        "    print(\"Weird\")\n",
        "elif n%2==0 and n>=2 and n<=5:\n",
        "    print(\"Not Weird\")\n",
        "elif n%2==0 and n>=6 and n<=20:\n",
        "    print(\"Weird\")\n",
        "elif n%2==0 and  n > 20:\n",
        "    print(\"Not Weird\")"
      ],
      "execution_count": 29,
      "outputs": [
        {
          "output_type": "stream",
          "text": [
            "Enter a number: 8\n",
            "Weird\n"
          ],
          "name": "stdout"
        }
      ]
    },
    {
      "cell_type": "code",
      "metadata": {
        "id": "pCXBMIqFPWsx"
      },
      "source": [
        ""
      ],
      "execution_count": null,
      "outputs": []
    }
  ]
}