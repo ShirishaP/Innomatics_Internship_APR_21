{
 "cells": [
  {
   "cell_type": "markdown",
   "metadata": {},
   "source": [
    "### Question 1\n"
   ]
  },
  {
   "cell_type": "code",
   "execution_count": 2,
   "metadata": {},
   "outputs": [
    {
     "name": "stdout",
     "output_type": "stream",
     "text": [
      "1.09 1\n",
      "0.696\n"
     ]
    }
   ],
   "source": [
    "import math\n",
    "b,g = map(float,input().split())\n",
    "p= b/(b+g)\n",
    "q=1-p\n",
    "k= 3\n",
    "n= 6\n",
    "total =0\n",
    "for i in range(k):\n",
    "    ncr = math.factorial(n)/(math.factorial(n-i)* math.factorial(i))\n",
    "    total+= ncr *(p)**i * q** (n-i)\n",
    "\n",
    "print(1- (round(total,3)))"
   ]
  },
  {
   "cell_type": "markdown",
   "metadata": {},
   "source": [
    "### Question 2"
   ]
  },
  {
   "cell_type": "code",
   "execution_count": null,
   "metadata": {},
   "outputs": [],
   "source": [
    "import math\n",
    "p,n = map(float,raw_input().split())\n",
    "p= p/100\n",
    "q=1-p\n",
    "k1= 3\n",
    "total =0\n",
    "\n",
    "total2 =0\n",
    "for i in range(k1):\n",
    "    ncr = math.factorial(n)/(math.factorial(n-i)* math.factorial(i))\n",
    "    total2+= ncr *(p)**i * q** (n-i)\n",
    "    \n",
    "print(round(total2,3))\n",
    "\n",
    "for i in range(k1-1):\n",
    "    ncr = math.factorial(n)/(math.factorial(n-i)* math.factorial(i))\n",
    "    total+= ncr *(p)**i * q** (n-i)\n",
    "\n",
    "print(1- (round(total,3)))\n"
   ]
  },
  {
   "cell_type": "markdown",
   "metadata": {},
   "source": [
    "### Question 3"
   ]
  },
  {
   "cell_type": "code",
   "execution_count": null,
   "metadata": {},
   "outputs": [],
   "source": [
    "import math\n",
    "mean,std = map(float,raw_input().split())\n",
    "c1 = float(raw_input())\n",
    "l1,l2 = map(float,raw_input().split())\n",
    "\n",
    "\n",
    "def normalDist (x,mean,std):\n",
    "    output =round(0.5 * (1 + math.erf((x - mean) / (std * (2 ** 0.5)))),3)\n",
    "    return output\n",
    "\n",
    "res1 = normalDist(c1,mean,std)\n",
    "res2= normalDist(l2,mean,std) - normalDist(l1,mean,std)\n",
    "print(res1)\n",
    "print(res2)"
   ]
  },
  {
   "cell_type": "markdown",
   "metadata": {},
   "source": [
    "### Question 4"
   ]
  },
  {
   "cell_type": "code",
   "execution_count": null,
   "metadata": {},
   "outputs": [],
   "source": [
    "import math\n",
    "mean,std = map(float,raw_input().split())\n",
    "h1 = float(raw_input())\n",
    "h2 = float(raw_input())\n",
    "l1 = 60\n",
    "\n",
    "def normalDist (x,mean,std):\n",
    "    output =round(0.5 *100* (1 + math.erf((x - mean) / (std * (2 ** 0.5)))),3)\n",
    "    return output\n",
    "\n",
    "\n",
    "print(round(100 - normalDist (h1,mean,std),2))\n",
    "print(round(100 - normalDist (h2,mean,std),2))\n",
    "print(round(normalDist (l1,mean,std),2))\n"
   ]
  },
  {
   "cell_type": "markdown",
   "metadata": {},
   "source": [
    "### Question 5"
   ]
  },
  {
   "cell_type": "code",
   "execution_count": null,
   "metadata": {},
   "outputs": [],
   "source": [
    "import math\n",
    "wt = float(raw_input())\n",
    "box = int(raw_input())\n",
    "m = float(raw_input())\n",
    "s = float(raw_input())\n",
    "\n",
    "std = math.sqrt(box)*s\n",
    "mean = m*box\n",
    "\n",
    "\n",
    "def normalDist (x,mean,std):\n",
    "    output =round(0.5 * (1 + math.erf((x - mean) / (std * (2 ** 0.5)))),4)\n",
    "    return output\n",
    "\n",
    "print(normalDist(wt,mean,std))"
   ]
  },
  {
   "cell_type": "markdown",
   "metadata": {},
   "source": [
    "### Question 6"
   ]
  },
  {
   "cell_type": "code",
   "execution_count": null,
   "metadata": {},
   "outputs": [],
   "source": [
    "import math\n",
    "tickets = float(raw_input())\n",
    "n = int(raw_input())\n",
    "mean_pop = float(raw_input())\n",
    "s = float(raw_input())\n",
    "\n",
    "mean_s = n*mean_pop\n",
    "std = s*math.sqrt(n)\n",
    "\n",
    "\n",
    "def normalDist (x,mean,std):\n",
    "    output =round(0.5 * (1 + math.erf((x - mean) / (std * (2 ** 0.5)))),4)\n",
    "    return output\n",
    "\n",
    "print(normalDist(tickets,mean_s,std))"
   ]
  },
  {
   "cell_type": "markdown",
   "metadata": {},
   "source": [
    "### Question 7"
   ]
  },
  {
   "cell_type": "code",
   "execution_count": null,
   "metadata": {},
   "outputs": [],
   "source": [
    "import math\n",
    "sample = float(raw_input())\n",
    "mean_s = float(raw_input())\n",
    "std = float(raw_input())\n",
    "percentage = float(raw_input())\n",
    "z = float(raw_input())\n",
    "\n",
    "\n",
    "\n",
    "marginerror = z* std/math.sqrt(sample)\n",
    "\n",
    "print(round((mean_s-marginerror),2))\n",
    "print(round((mean_s+marginerror),2))"
   ]
  },
  {
   "cell_type": "markdown",
   "metadata": {},
   "source": [
    "### Question 8 "
   ]
  },
  {
   "cell_type": "code",
   "execution_count": null,
   "metadata": {},
   "outputs": [],
   "source": [
    "n = int(raw_input())\n",
    "X = list(map(float,raw_input().split()))\n",
    "Y = list(map(float,raw_input().split()))\n",
    "\n",
    "\n",
    "def calculateMean(X):\n",
    "    total=0\n",
    "    for i in X:\n",
    "        total +=i\n",
    "    return total/len(X)\n",
    "\n",
    "def calculateStd(X,mean):\n",
    "    total = 0\n",
    "    for i in X:\n",
    "        total += (i - mean)**2\n",
    "    return (total/len(X))**0.5\n",
    "\n",
    "mean_X = calculateMean(X)\n",
    "mean_Y = calculateMean(Y)\n",
    "std_X = calculateStd(X,mean_X)\n",
    "std_Y = calculateStd(Y,mean_Y)\n",
    "numerator = 0\n",
    "denominator = n* std_X*std_Y\n",
    "for i in range(n):\n",
    "    numerator+=(X[i]-mean_X)*(Y[i]-mean_Y)\n",
    "    \n",
    "coeff = numerator/denominator\n",
    "print(round(coeff,3))\n",
    "\n",
    "    \n"
   ]
  },
  {
   "cell_type": "markdown",
   "metadata": {},
   "source": [
    "### Question 9"
   ]
  },
  {
   "cell_type": "code",
   "execution_count": null,
   "metadata": {},
   "outputs": [],
   "source": [
    "score=[]\n",
    "grade=[]\n",
    "for i in range(5):\n",
    "    x,y = map(float,raw_input().split())\n",
    "    score.append(x)\n",
    "    grade.append(y)\n",
    "\n",
    "n = len(score)\n",
    "\n",
    "def calculateMean(X):\n",
    "    total=0\n",
    "    for i in X:\n",
    "        total+= i\n",
    "    return total/len(X)\n",
    "\n",
    "mean_x = calculateMean(score)\n",
    "mean_y = calculateMean(grade)\n",
    "\n",
    "numer = 0\n",
    "denom = 0\n",
    "for i in range(n):\n",
    "    numer += (score[i] - mean_x) * (grade[i] - mean_y)\n",
    "    denom += (score[i] - mean_x) ** 2\n",
    "m = numer / denom\n",
    "c = mean_y - (m * mean_x)\n",
    " \n",
    "y=m*80 + c\n",
    "print(y)"
   ]
  },
  {
   "cell_type": "markdown",
   "metadata": {},
   "source": [
    "### Question 10"
   ]
  },
  {
   "cell_type": "code",
   "execution_count": null,
   "metadata": {},
   "outputs": [],
   "source": [
    "# Enter your code here. Read input from STDIN. Print output to STDOUT\n",
    "import numpy\n",
    "import math\n",
    "m,n = map(int,raw_input().split())\n",
    "features,label =[],[]\n",
    "X_test =[]\n",
    "\n",
    "for i in range(n):\n",
    "    input = map(float,raw_input().split())\n",
    "    features.append(input[:m])\n",
    "    label.append(input[-1])\n",
    "features = numpy.array(features)\n",
    "features = numpy.delete(features, 2, 1)\n",
    "label = numpy.array(label)\n",
    "\n",
    "n2 = int(raw_input())\n",
    "for i in range(n2):\n",
    "    input = map(float,raw_input().split())\n",
    "    X_test.append(input)\n",
    "X_test = numpy.array(X_test)\n",
    "\n",
    "\n",
    "def normal_equation(X, Y):\n",
    "    beta = numpy.dot((numpy.linalg.inv(numpy.dot(X.T,X))), numpy.dot(X.T,Y))\n",
    "\n",
    "    return beta\n",
    "def predict(X_test, beta):\n",
    "    return numpy.dot(X_test, beta)\n",
    "\n",
    "beta = normal_equation(features, label)\n",
    "predictions = predict(X_test, beta)\n",
    "\n",
    "print(predictions)\n"
   ]
  },
  {
   "cell_type": "code",
   "execution_count": null,
   "metadata": {},
   "outputs": [],
   "source": []
  },
  {
   "cell_type": "code",
   "execution_count": null,
   "metadata": {},
   "outputs": [],
   "source": []
  }
 ],
 "metadata": {
  "kernelspec": {
   "display_name": "Python 3",
   "language": "python",
   "name": "python3"
  },
  "language_info": {
   "codemirror_mode": {
    "name": "ipython",
    "version": 3
   },
   "file_extension": ".py",
   "mimetype": "text/x-python",
   "name": "python",
   "nbconvert_exporter": "python",
   "pygments_lexer": "ipython3",
   "version": "3.8.5"
  }
 },
 "nbformat": 4,
 "nbformat_minor": 4
}
