{
  "nbformat": 4,
  "nbformat_minor": 0,
  "metadata": {
    "colab": {
      "name": "Task - 5 (Python Programming).ipynb",
      "provenance": [],
      "collapsed_sections": []
    },
    "kernelspec": {
      "name": "python3",
      "display_name": "Python 3"
    },
    "language_info": {
      "name": "python"
    }
  },
  "cells": [
    {
      "cell_type": "markdown",
      "metadata": {
        "id": "w5rnYSrDs-UK"
      },
      "source": [
        "**Question 1**\n",
        "\n",
        "Detect Floating point number"
      ]
    },
    {
      "cell_type": "code",
      "metadata": {
        "id": "_USc67-XpzYI"
      },
      "source": [
        "import re\n",
        "\n",
        "\n",
        "k = int(input())\n",
        "output = []\n",
        "for i in range(k):\n",
        "    input_num=raw_input()\n",
        "    output.append(bool(re.match(r'^[-+]?[0-9]*\\.[0-9]+$',input_num)))\n",
        "for i in output:\n",
        "    print(i)\n"
      ],
      "execution_count": null,
      "outputs": []
    },
    {
      "cell_type": "markdown",
      "metadata": {
        "id": "pmNtJsK1tFzL"
      },
      "source": [
        "**Question 2**\n",
        "\n",
        "Group(), Groups() & Groupdict()\n",
        "\n"
      ]
    },
    {
      "cell_type": "code",
      "metadata": {
        "id": "nVQ1B-SAwFSy"
      },
      "source": [
        "import re\n",
        "\n",
        "number = input()\n",
        "\n",
        "\n",
        "subgroup = re.search(r'([A-Za-z0-9])\\1+' , number)\n",
        "if subgroup:\n",
        "    print(subgroup.group(1))\n",
        "else:\n",
        "    print(\"-1\")"
      ],
      "execution_count": null,
      "outputs": []
    },
    {
      "cell_type": "markdown",
      "metadata": {
        "id": "bSYPupPXwJnL"
      },
      "source": [
        "**Question 3**\n",
        "\n",
        "Re.findall() & Re.finditer()\n",
        "\n"
      ]
    },
    {
      "cell_type": "code",
      "metadata": {
        "id": "oxSXKdhRwI5z"
      },
      "source": [
        "import re\n",
        "\n",
        "pattern = input()\n",
        "\n",
        "result = re.findall(r'(?<=[qwrtypsdfghjklzxcvbnm])([aeiou]{2,})(?=[qwrtypsdfghjklzxcvbnm])', pattern, re.IGNORECASE)\n",
        "\n",
        "if result :\n",
        "    for i in result:\n",
        "        print(i)\n",
        "else:\n",
        "    print(\"-1\")"
      ],
      "execution_count": null,
      "outputs": []
    },
    {
      "cell_type": "markdown",
      "metadata": {
        "id": "-KVZqnZdxccC"
      },
      "source": [
        "**Question 4**\n",
        "\n",
        "Re.start() & Re.end()\n",
        "\n"
      ]
    },
    {
      "cell_type": "code",
      "metadata": {
        "id": "etH2MZQixltp"
      },
      "source": [
        "import re\n",
        "S= input() \n",
        "k=input()\n",
        "\n",
        "result = re.finditer(r'(?=(' + k + '))', S)\n",
        "\n",
        "flag = False\n",
        "\n",
        "for i in result:\n",
        "    flag = True\n",
        "    print(i.start(1),i.end(1)-1)\n",
        "if flag == False:\n",
        "    print('-1,-1')"
      ],
      "execution_count": null,
      "outputs": []
    },
    {
      "cell_type": "markdown",
      "metadata": {
        "id": "Y9Z3tP53yyQA"
      },
      "source": [
        "**Question 5**\n",
        "Regex Substitution\n",
        "\n"
      ]
    },
    {
      "cell_type": "code",
      "metadata": {
        "id": "wj5Nuld5y5HR"
      },
      "source": [
        "import re\n",
        "\n",
        "number = int(input())\n",
        "\n",
        "for i in range (number):\n",
        "    line = input()\n",
        "    output =''\n",
        "    output = re.sub(r'(?<= )\\&\\&(?= )','and',line) \n",
        "    output = re.sub(r'(?<= )\\|\\|(?= )','or',output) \n",
        "    print(output)"
      ],
      "execution_count": null,
      "outputs": []
    },
    {
      "cell_type": "markdown",
      "metadata": {
        "id": "snAlwJrL0q-O"
      },
      "source": [
        "**Question 6**\n",
        "\n",
        "Validating Roman Numerals\n",
        "\n"
      ]
    },
    {
      "cell_type": "code",
      "metadata": {
        "id": "UUIqcqNt5IMf"
      },
      "source": [
        "regex_pattern = r'^(?=[MDCLXVI])M{0,3}(CM|CD|D?C{0,3})(XC|XL|L?X{0,3})(IX|IV|V?I{0,3})$'\n",
        " # Do not delete 'r'.\n",
        "\n",
        "import re\n",
        "print(str(bool(re.match(regex_pattern, raw_input()))))"
      ],
      "execution_count": null,
      "outputs": []
    },
    {
      "cell_type": "markdown",
      "metadata": {
        "id": "i9TjVEI95Mte"
      },
      "source": [
        "**Question 7**\n",
        "\n",
        "Validating phone numbers\n",
        "\n"
      ]
    },
    {
      "cell_type": "code",
      "metadata": {
        "id": "omq8ohAA5h8n"
      },
      "source": [
        "import re\n",
        "num = int(raw_input())\n",
        "\n",
        "for i in range(num):\n",
        "    number = raw_input()\n",
        "    result = bool(re.match(r\"^[7-9][0-9]{9}$\",number))\n",
        "    if result:\n",
        "        print(\"YES\")\n",
        "    else:\n",
        "        print(\"NO\")"
      ],
      "execution_count": null,
      "outputs": []
    },
    {
      "cell_type": "markdown",
      "metadata": {
        "id": "OQIc3afcLbPs"
      },
      "source": [
        "**Question 8**\n",
        "\n",
        "Validating and Parsing Email Addresses\n",
        "\n"
      ]
    },
    {
      "cell_type": "code",
      "metadata": {
        "id": "k6hjKPgiLj1o"
      },
      "source": [
        "import email.utils\n",
        "import re\n",
        "\n",
        "pattern = \"^[a-zA-Z]+[a-zA-Z0-9+_.-]+@[a-zA-Z]+[.][a-zA-Z]{,3}$\"\n",
        "num=int(raw_input())\n",
        "for i in range(num):\n",
        "    input1 = raw_input()\n",
        "    email_r=  email.utils.parseaddr(input1)\n",
        "    email_l = list(email_r)\n",
        "    result = bool(re.match(pattern,email_r[1]))\n",
        "    if result:\n",
        "        print email.utils.formataddr((email_r[0],email_r[1]))\n",
        "    else:\n",
        "        continue"
      ],
      "execution_count": null,
      "outputs": []
    },
    {
      "cell_type": "markdown",
      "metadata": {
        "id": "JkCHx6lMuX2u"
      },
      "source": [
        "**Question 9**\n",
        "\n",
        "Hex Color Code"
      ]
    },
    {
      "cell_type": "code",
      "metadata": {
        "id": "D0mcqY7f9WbY"
      },
      "source": [
        "import re\n",
        "pattern = r\"#[0-9a-fA-F]{3,6}\"\n",
        "num = int(input())\n",
        "flag = False\n",
        "for i in range(num):\n",
        "    input1=input()\n",
        "    if '{' in input1:\n",
        "        flag = True\n",
        "    elif '}' in input1:\n",
        "        flag = False\n",
        "    elif flag:\n",
        "        output = re.findall(pattern,input1)\n",
        "        for i in output:\n",
        "            print(i)"
      ],
      "execution_count": null,
      "outputs": []
    },
    {
      "cell_type": "markdown",
      "metadata": {
        "id": "-bRHMap-9eTK"
      },
      "source": [
        "**Question 10**\n",
        "\n",
        "HTML Parser - Part 1\n",
        "\n"
      ]
    },
    {
      "cell_type": "code",
      "metadata": {
        "id": "qQpezMjK9Y8T"
      },
      "source": [
        "from HTMLParser import HTMLParser\n",
        "def findAttrs(attr):\n",
        "    for i in attr:\n",
        "        (key,value) = i\n",
        "        print('->'+' '+key.strip()+' '+'>'+' '+str(value).strip())\n",
        "class MyHTMLParser(HTMLParser):\n",
        "    def handle_starttag(self, tag, attrs):\n",
        "        print \"Start :\", tag\n",
        "        findAttrs(attrs)\n",
        "    def handle_endtag(self, tag):\n",
        "        print \"End   :\", tag\n",
        "    def handle_startendtag(self, tag, attrs):\n",
        "        print \"Empty :\", tag\n",
        "        findAttrs(attrs)\n",
        "    \n",
        "\n",
        "\n",
        "\n",
        "num = int(raw_input())\n",
        "for i in range(num):\n",
        "    input1 = str(raw_input())\n",
        "    parser = MyHTMLParser()\n",
        "    parser.feed(input1)\n"
      ],
      "execution_count": null,
      "outputs": []
    },
    {
      "cell_type": "markdown",
      "metadata": {
        "id": "uFHI3Ps4Cjl_"
      },
      "source": [
        "**Question 11**\n",
        "\n",
        "HTML Parser Part 2"
      ]
    },
    {
      "cell_type": "code",
      "metadata": {
        "id": "qFzVOwazFt4P"
      },
      "source": [
        "# Enter your code here. Read input from STDIN. Print output to STDOUT\n",
        "from HTMLParser import HTMLParser\n",
        "\n",
        "class MyHTMLParser(HTMLParser):\n",
        "    def handle_comment(self, data):\n",
        "        if (len(data.split('\\n')) != 1):\n",
        "            print(\">>> Multi-line Comment\")\n",
        "        else:\n",
        "            print(\">>> Single-line Comment\")\n",
        "        print(data.replace(\"\\r\", \"\\n\"))\n",
        "    def handle_data(self, data):\n",
        "        if data.strip():\n",
        "            print(\">>> Data\")\n",
        "            print(data)\n",
        "            \n",
        "num = int(raw_input())\n",
        "parser = MyHTMLParser()\n",
        "string = ''\n",
        "for i in range(num):\n",
        "    string+=raw_input() +\"\\n\"\n",
        "    \n",
        "parser.feed(string)\n",
        "parser.close()\n",
        "    "
      ],
      "execution_count": null,
      "outputs": []
    },
    {
      "cell_type": "markdown",
      "metadata": {
        "id": "PQmC4DSRFvOk"
      },
      "source": [
        "**Question 12**\n",
        "\n",
        "Detect HTML Tags, Attributes and Attribute Values\n",
        "\n"
      ]
    },
    {
      "cell_type": "code",
      "metadata": {
        "id": "zqNoYznBF3EV"
      },
      "source": [
        "from HTMLParser import HTMLParser\n",
        "\n",
        "class MyHTMLParser(HTMLParser):\n",
        "    def handle_starttag(self, tag, attrs):\n",
        "        print tag\n",
        "        for attr, value in attrs:\n",
        "            print \"->\", attr, \">\", value\n",
        "\n",
        "    def handle_startendtag(self, tag, attrs):\n",
        "        print tag\n",
        "        for attr, value in attrs:\n",
        "            print \"->\", attr, \">\", value\n",
        "\n",
        "string =''\n",
        "num = int(raw_input())\n",
        "for i in range(num):\n",
        "    input1 = raw_input().strip()\n",
        "    string += input1+ '\\n'\n",
        "    \n",
        "parser = MyHTMLParser()\n",
        "parser.feed(string)\n",
        "parser.close()"
      ],
      "execution_count": null,
      "outputs": []
    },
    {
      "cell_type": "markdown",
      "metadata": {
        "id": "v1Yp8LO8GhGM"
      },
      "source": [
        "**Question 13**\n",
        "Validating UID\n",
        "\n",
        "\n"
      ]
    },
    {
      "cell_type": "code",
      "metadata": {
        "id": "fuEzdR51K0UT"
      },
      "source": [
        "import re\n",
        "pattern1 = r'^(?=(?:[a-z\\d]*[A-Z]){2})(?=(?:\\D*\\d){3})(?:([a-zA-Z\\d])(?!.*\\1)){10}$'\n",
        "num = int(raw_input())\n",
        "for i in range(num):\n",
        "    input1 = raw_input()\n",
        "    if bool(re.match(pattern1,input1)):\n",
        "       print(\"Valid\")\n",
        "    else:\n",
        "        print(\"Invalid\")\n",
        "    "
      ],
      "execution_count": null,
      "outputs": []
    },
    {
      "cell_type": "markdown",
      "metadata": {
        "id": "rf0YmqqoK4Yo"
      },
      "source": [
        "**Question 14**\n",
        "Validating Credit Card Numbers\n",
        "\n"
      ]
    },
    {
      "cell_type": "code",
      "metadata": {
        "id": "BhomGPo1K_Ea"
      },
      "source": [
        "import re\n",
        "num = int(raw_input())\n",
        "pattern1 = r'^[456]\\d{3}(\\?|(-)|)(\\d{4}\\1){2}\\d{4}$'\n",
        "pattern2= r'(\\d)(-|\\1){4}'\n",
        "for i in range(num):\n",
        "    input1= raw_input()\n",
        "    if re.search(pattern1, input1) and  not re.search(pattern2, input1):\n",
        "        print \"Valid\"\n",
        "    else:\n",
        "        print \"Invalid\""
      ],
      "execution_count": null,
      "outputs": []
    },
    {
      "cell_type": "markdown",
      "metadata": {
        "id": "1HJCPFs4Ns3P"
      },
      "source": [
        "**Question 15**\n",
        "\n",
        "Validating Postal Codes\n",
        "\n"
      ]
    },
    {
      "cell_type": "code",
      "metadata": {
        "id": "pzna-4_HNsMS"
      },
      "source": [
        "regex_integer_in_range = r\"^[1-9][0-9]{5}$\"\t# Do not delete 'r'.\n",
        "regex_alternating_repetitive_digit_pair = r\"(.)(?=.\\1)\"\t# Do not delete 'r'.\n",
        "\n",
        "\n",
        "import re\n",
        "P = raw_input()\n",
        "\n",
        "print (bool(re.match(regex_integer_in_range, P)) \n",
        "and len(re.findall(regex_alternating_repetitive_digit_pair, P)) < 2)"
      ],
      "execution_count": null,
      "outputs": []
    },
    {
      "cell_type": "markdown",
      "metadata": {
        "id": "CWiHv2DXPVn1"
      },
      "source": [
        "**Question 16**\n",
        "\n",
        "Matrix Script\n",
        "\n"
      ]
    },
    {
      "cell_type": "code",
      "metadata": {
        "id": "Lqh1vVboPdIx"
      },
      "source": [
        "#!/bin/python\n",
        "\n",
        "import math\n",
        "import os\n",
        "import random\n",
        "import re\n",
        "import sys\n",
        "\n",
        "\n",
        "pattern = r'(?<=\\w)([^\\w]+)(?=\\w)'\n",
        "\n",
        "first_multiple_input = raw_input().rstrip().split()\n",
        "\n",
        "n = int(first_multiple_input[0])\n",
        "\n",
        "m = int(first_multiple_input[1])\n",
        "\n",
        "matrix = []\n",
        "\n",
        "for _ in xrange(n):\n",
        "    matrix_item = raw_input()\n",
        "    matrix.append(matrix_item)\n",
        "res = ''\n",
        "for a in zip(*matrix):\n",
        "    res += ''.join(a)\n",
        "result = re.sub(pattern,' ',res)\n",
        "print(result)"
      ],
      "execution_count": null,
      "outputs": []
    },
    {
      "cell_type": "markdown",
      "metadata": {
        "id": "sYVMN3S3Qfpa"
      },
      "source": [
        "**Question 17**\n",
        "\n",
        "Re.split()\n",
        "\n"
      ]
    },
    {
      "cell_type": "code",
      "metadata": {
        "id": "lvmRyFYkQlFe"
      },
      "source": [
        "regex_pattern = r\"[.,]+\"\t# Do not delete 'r'.\n",
        "\n",
        "import re\n",
        "print(\"\\n\".join(re.split(regex_pattern, raw_input())))"
      ],
      "execution_count": null,
      "outputs": []
    }
  ]
}